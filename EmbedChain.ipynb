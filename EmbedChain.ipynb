{
 "cells": [
  {
   "cell_type": "markdown",
   "id": "7db28356",
   "metadata": {},
   "source": [
    "# RAG using Embedchain\n",
    "Opensource framework"
   ]
  },
  {
   "cell_type": "code",
   "execution_count": 1,
   "id": "9a424389",
   "metadata": {},
   "outputs": [],
   "source": [
    "import os\n",
    "import warnings"
   ]
  },
  {
   "cell_type": "code",
   "execution_count": 2,
   "id": "86c1352f",
   "metadata": {},
   "outputs": [],
   "source": [
    "\n"
   ]
  },
  {
   "cell_type": "code",
   "execution_count": 3,
   "id": "632b173d",
   "metadata": {},
   "outputs": [
    {
     "name": "stderr",
     "output_type": "stream",
     "text": [
      "/Users/royquesada/anaconda3/lib/python3.11/site-packages/torch/_utils.py:776: UserWarning: TypedStorage is deprecated. It will be removed in the future and UntypedStorage will be the only storage class. This should only matter to you if you are using storages directly.  To access UntypedStorage directly, use tensor.untyped_storage() instead of tensor.storage()\n",
      "  return self.fget.__get__(instance, owner)()\n"
     ]
    }
   ],
   "source": [
    "from embedchain import App\n",
    "app = App.from_config(\"mistral.yaml\")"
   ]
  },
  {
   "cell_type": "markdown",
   "id": "f75ed340",
   "metadata": {},
   "source": [
    "# Utils functions"
   ]
  },
  {
   "cell_type": "code",
   "execution_count": 4,
   "id": "68e50f51",
   "metadata": {},
   "outputs": [],
   "source": [
    "def query(question):\n",
    "    print(f\"Executing query: {question}\")\n",
    "\n",
    "    # Suppress FutureWarning related to InferenceApi deprecation\n",
    "    with warnings.catch_warnings():\n",
    "        warnings.filterwarnings(\"ignore\", category=FutureWarning)\n",
    "        response = app.query(question)\n",
    "        print(f\"Response: {response} \\n\")"
   ]
  },
  {
   "cell_type": "code",
   "execution_count": 5,
   "id": "aabd7038",
   "metadata": {},
   "outputs": [],
   "source": [
    "def execute_queries():\n",
    "\n",
    "    # Execute the queries\n",
    "    query(\"What is the date and time of the dental appointment according to the confirmation email from Happy Smiles Dentistry?\")\n",
    "    query(\"Can you remind me of the starting date for the new school term mentioned in the school notification email?\")\n",
    "    query(\"In the invitation email for the Section 3-B party, what activity is being organized as part of the celebration, and when is it scheduled?\")\n",
    "    query(\"According to the invoice reminder from Smith Accounting Services, what is the outstanding payment amount for accounting services rendered in December?\")\n",
    "    query(\"In the ASUS warranty case follow-up email, what is ASUS requesting regarding the screen damage issue on the computer?\")\n"
   ]
  },
  {
   "cell_type": "markdown",
   "id": "4866945e",
   "metadata": {},
   "source": [
    "# Retrieval before the Ingestion"
   ]
  },
  {
   "cell_type": "code",
   "execution_count": 6,
   "id": "6b9931e1",
   "metadata": {},
   "outputs": [
    {
     "name": "stdout",
     "output_type": "stream",
     "text": [
      "Executing query: What is the date and time of the dental appointment according to the confirmation email from Happy Smiles Dentistry?\n",
      "Response: \n",
      "  According to the confirmation email from Happy Smiles Dentistry, your dental appointment is scheduled for March 15, 2023, at 10:30 AM. \n",
      "\n",
      "Executing query: Can you remind me of the starting date for the new school term mentioned in the school notification email?\n",
      "Response: \n",
      "  Based on the information provided in the context, I cannot directly answer your query as there is no school notification email mentioned in the context for me to refer to. Therefore, I cannot provide the starting date for the new school term. \n",
      "\n",
      "Executing query: In the invitation email for the Section 3-B party, what activity is being organized as part of the celebration, and when is it scheduled?\n",
      "Response: \n",
      "  Based on the context provided, there is no information given in the invitation email about any specific activity being organized as part of the Section 3-B party or the schedule for that activity. Therefore, I don't have enough information to answer the query. \n",
      "\n",
      "Executing query: According to the invoice reminder from Smith Accounting Services, what is the outstanding payment amount for accounting services rendered in December?\n",
      "Response: \n",
      "  Based on the information provided, I would need to review the specific invoice reminder from Smith Accounting Services to determine the outstanding payment amount for accounting services rendered in December. Without access to that document, I cannot provide an accurate answer. \n",
      "\n",
      "Executing query: In the ASUS warranty case follow-up email, what is ASUS requesting regarding the screen damage issue on the computer?\n",
      "Response: \n",
      "  Based on the context provided, there isn't enough information to definitively answer the query. However, it can be inferred that ASUS is likely requesting additional information or documentation related to the reported screen damage issue on the computer. This could include details about how the damage occurred, any relevant warranty information, or images or videos of the damage for assessment. Without access to the specific email content, it's impossible to know for sure what ASUS is asking for. \n",
      "\n"
     ]
    }
   ],
   "source": [
    "execute_queries()"
   ]
  },
  {
   "cell_type": "markdown",
   "id": "3855b975",
   "metadata": {},
   "source": [
    "# Ingestion of the emails"
   ]
  },
  {
   "cell_type": "code",
   "execution_count": 7,
   "id": "3a05ee8d",
   "metadata": {},
   "outputs": [
    {
     "name": "stderr",
     "output_type": "stream",
     "text": [
      "Inserting batches in chromadb:   0%|                      | 0/1 [00:00<?, ?it/s]"
     ]
    },
    {
     "name": "stderr",
     "output_type": "stream",
     "text": [
      "Inserting batches in chromadb: 100%|██████████████| 1/1 [00:00<00:00,  4.11it/s]"
     ]
    },
    {
     "name": "stdout",
     "output_type": "stream",
     "text": [
      "Successfully saved ./emails.csv (DataType.CSV). New chunks count: 14\n"
     ]
    },
    {
     "name": "stderr",
     "output_type": "stream",
     "text": [
      "\n"
     ]
    },
    {
     "data": {
      "text/plain": [
       "'11abde466e5dbee2a1550f41fd5d17a7'"
      ]
     },
     "execution_count": 7,
     "metadata": {},
     "output_type": "execute_result"
    }
   ],
   "source": [
    "app.add(\"./emails.csv\")"
   ]
  },
  {
   "cell_type": "markdown",
   "id": "04b61433",
   "metadata": {},
   "source": [
    "# Retrieval after the Ingestion"
   ]
  },
  {
   "cell_type": "code",
   "execution_count": 8,
   "id": "be9e14a8",
   "metadata": {},
   "outputs": [
    {
     "name": "stdout",
     "output_type": "stream",
     "text": [
      "Executing query: What is the date and time of the dental appointment according to the confirmation email from Happy Smiles Dentistry?\n",
      "Response:   The dental appointment is scheduled for February 28th, 2024 at 9:00 AM. \n",
      "\n",
      "Executing query: Can you remind me of the starting date for the new school term mentioned in the school notification email?\n",
      "Response:   Yes, the new school term begins on February 15th. \n",
      "\n",
      "Executing query: In the invitation email for the Section 3-B party, what activity is being organized as part of the celebration, and when is it scheduled?\n",
      "Response:   The activity being organized as part of the Section 3-B party is a friendly football match. It is scheduled for March 1st, 2024 at 6:00 PM. \n",
      "\n",
      "Executing query: According to the invoice reminder from Smith Accounting Services, what is the outstanding payment amount for accounting services rendered in December?\n",
      "Response:   The outstanding payment amount for accounting services rendered in December, as stated in the invoice reminder from Smith Accounting Services, is $200. \n",
      "\n",
      "Executing query: In the ASUS warranty case follow-up email, what is ASUS requesting regarding the screen damage issue on the computer?\n",
      "Response:   ASUS is requesting any updates or additional information regarding the screen damage issue on the computer from the customer in their ongoing efforts to resolve the issue. \n",
      "\n"
     ]
    }
   ],
   "source": [
    "execute_queries()"
   ]
  },
  {
   "cell_type": "markdown",
   "id": "80fc7fe7",
   "metadata": {},
   "source": [
    "# Test to create draft"
   ]
  },
  {
   "cell_type": "markdown",
   "id": "9d36a9be",
   "metadata": {},
   "source": [
    "Create emails"
   ]
  },
  {
   "cell_type": "code",
   "execution_count": 9,
   "id": "63dbd5a4",
   "metadata": {},
   "outputs": [],
   "source": [
    "email_string = \"\"\"Subject: School Reminder - Back to Class on February 15th ### From: School Notifications <notifications@school.edu> ### Date: 2024-02-15 00:00:00-07:00 ### Body: Dear Parent/Guardian,\n",
    "\n",
    "This is a reminder that the new school term begins on February 15th. Please ensure that your child is prepared for the upcoming academic year.\n",
    "\n",
    "If you have any questions or concerns, feel free to contact the school office at notifications@school.edu or call (555) 789-0123.\n",
    "\n",
    "Wishing your child a successful school year!\n",
    "\n",
    "Sincerely,\n",
    "School Administration\n",
    "\"\"\""
   ]
  },
  {
   "cell_type": "markdown",
   "id": "ad763969",
   "metadata": {},
   "source": [
    "Ask to create a draft for email #1"
   ]
  },
  {
   "cell_type": "code",
   "execution_count": 10,
   "id": "88756dbf",
   "metadata": {},
   "outputs": [
    {
     "name": "stdout",
     "output_type": "stream",
     "text": [
      "Executing query: Create a draft email to answer the following email and print only the body : Subject: School Reminder - Back to Class on February 15th ### From: School Notifications <notifications@school.edu> ### Date: 2024-02-15 00:00:00-07:00 ### Body: Dear Parent/Guardian,\n",
      "\n",
      "This is a reminder that the new school term begins on February 15th. Please ensure that your child is prepared for the upcoming academic year.\n",
      "\n",
      "If you have any questions or concerns, feel free to contact the school office at notifications@school.edu or call (555) 789-0123.\n",
      "\n",
      "Wishing your child a successful school year!\n",
      "\n",
      "Sincerely,\n",
      "School Administration\n",
      "\n",
      "Response:   Subject: Re: School Reminder - Back to Class on February 15th\n",
      "  From: Your Name <your.email@example.com>\n",
      "  Date: 2024-02-14 12:00:00-07:00\n",
      "\n",
      "  Body:\n",
      "  Dear School Administration,\n",
      "\n",
      "  Thank you for the reminder about the upcoming school term. We are excited for our child to return to class on February 15th. We will make sure they are well-prepared and have all the necessary supplies.\n",
      "\n",
      "  If there are any specific items or information that we need to provide or if there are any changes to the school schedule, please let us know as soon as possible. We will be in touch with any questions or concerns we may have.\n",
      "\n",
      "  Wishing all the students a successful and productive school year!\n",
      "\n",
      "  Best regards,\n",
      "  [Your Name] \n",
      "\n"
     ]
    }
   ],
   "source": [
    "query(\"Create a draft email to answer the following email and print only the body : \" + email_string)"
   ]
  },
  {
   "cell_type": "code",
   "execution_count": null,
   "id": "16651f0e",
   "metadata": {},
   "outputs": [],
   "source": []
  }
 ],
 "metadata": {
  "kernelspec": {
   "display_name": "Python 3 (ipykernel)",
   "language": "python",
   "name": "python3"
  },
  "language_info": {
   "codemirror_mode": {
    "name": "ipython",
    "version": 3
   },
   "file_extension": ".py",
   "mimetype": "text/x-python",
   "name": "python",
   "nbconvert_exporter": "python",
   "pygments_lexer": "ipython3",
   "version": "3.11.4"
  }
 },
 "nbformat": 4,
 "nbformat_minor": 5
}
